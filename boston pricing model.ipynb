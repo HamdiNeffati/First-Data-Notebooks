{
 "cells": [
  {
   "cell_type": "markdown",
   "metadata": {},
   "source": [
    "# Importing and cleaning the data :\n",
    "First we start by importing the relevant libraries to be used\n",
    "at first i only imported pandas,randomforestclassifier and linear regression from sklearn but as i worked on i needed more functions like R2_score from sklearn and sns/matplot to visualize the data"
   ]
  },
  {
   "cell_type": "code",
   "execution_count": 1,
   "metadata": {},
   "outputs": [],
   "source": [
    "import pandas as pd\n",
    "from sklearn.ensemble import RandomForestRegressor\n",
    "import matplotlib.pyplot as plt\n",
    "import seaborn as sns\n",
    "from sklearn.model_selection import train_test_split\n",
    "from sklearn.linear_model import LinearRegression\n",
    "from sklearn.metrics import mean_squared_error, r2_score\n",
    "from scipy.stats import linregress\n",
    "from prettytable import PrettyTable\n"
   ]
  },
  {
   "cell_type": "markdown",
   "metadata": {},
   "source": [
    "Now we import the data base that we will work on and inspect it to see if it needs cleaning.\n",
    "it seems that we are missing the columns so we will start by getting them from the kaggle database desciption\n",
    "our new columns are as follows :\n",
    "CRIM - per capita crime rate by town\n",
    "\n",
    "ZN - proportion of residential land zoned for lots over 25,000 sq.ft.\n",
    "\n",
    "INDUS - proportion of non-retail business acres per town.\n",
    "\n",
    "\n",
    "CHAS - Charles River dummy variable (1 if tract bounds river; 0 otherwise)\n",
    "\n",
    "\n",
    "NOX - nitric oxides concentration (parts per 10 million)\n",
    "\n",
    "\n",
    "RM - average number of rooms per dwelling\n",
    "\n",
    "\n",
    "AGE - proportion of owner-occupied units built prior to 1940\n",
    "\n",
    "\n",
    "DIS - weighted distances to five Boston employment centres\n",
    "\n",
    "\n",
    "RAD - index of accessibility to radial highways\n",
    "\n",
    "\n",
    "TAX - full-value property-tax rate per $10,000\n",
    "\n",
    "\n",
    "PTRATIO - pupil-teacher ratio by town\n",
    "\n",
    "\n",
    "B - 1000(Bk - 0.63)^2 where Bk is the proportion of blacks by town\n",
    "\n",
    "\n",
    "LSTAT - percentage of lower status of the population\n",
    "\n",
    "\n",
    "MEDV - Median value of owner-occupied homes in $1000's"
   ]
  },
  {
   "cell_type": "code",
   "execution_count": 9,
   "metadata": {},
   "outputs": [
    {
     "ename": "SyntaxError",
     "evalue": "invalid syntax (1385127252.py, line 1)",
     "output_type": "error",
     "traceback": [
      "\u001b[1;36m  Cell \u001b[1;32mIn[9], line 1\u001b[1;36m\u001b[0m\n\u001b[1;33m    df = pd.read_csv('D:\\Portfolio\\Projects\\Miscelaneous data\\housing.csv'; delimeter =';')\u001b[0m\n\u001b[1;37m                                                                          ^\u001b[0m\n\u001b[1;31mSyntaxError\u001b[0m\u001b[1;31m:\u001b[0m invalid syntax\n"
     ]
    }
   ],
   "source": [
    "df = pd.read_csv('D:\\Portfolio\\Projects\\Miscelaneous data\\housing.csv'; delimeter =';')\n",
    "df.columns = ['CRIM','ZN', 'INDUS', 'CHAS','NOX','RM','AGE','DIS','RAD','TAX','PTRATIO','B','LSTAT','MEDV']\n",
    "print(df.head(5))"
   ]
  },
  {
   "cell_type": "markdown",
   "metadata": {},
   "source": [
    "We have loaded the data and set our columns , now we will check if our data is missing any values that might make our random forest not work.\n",
    "running the function below shows that our data isn't missing any values.So let's do some visualization and then we can continue to the linear regression and random forest models."
   ]
  },
  {
   "cell_type": "code",
   "execution_count": null,
   "metadata": {},
   "outputs": [],
   "source": [
    "df.isna().sum()"
   ]
  },
  {
   "cell_type": "markdown",
   "metadata": {},
   "source": [
    "# Visualizing the data :"
   ]
  },
  {
   "cell_type": "code",
   "execution_count": null,
   "metadata": {},
   "outputs": [],
   "source": [
    "# histogram of the target variable\n",
    "plt.hist(df['MEDV'])\n",
    "plt.xlabel('Median value of owner-occupied homes in $1000s')\n",
    "plt.ylabel('Frequency')\n",
    "plt.show()\n",
    "#correlation matrix\n",
    "corr = df.corr()\n",
    "sns.heatmap(corr, cmap='coolwarm', annot=True)\n",
    "plt.show()"
   ]
  },
  {
   "cell_type": "markdown",
   "metadata": {},
   "source": [
    "we can obeserve from the histograms of the target column that our data follows a slightly normal distribution with its median being at 200000 dollars\n",
    "at a frequency of 150 (ouf ot our sample dataset).\n",
    "from the correlation matrix we can observe strong corerlation between some of our features such as taxation and accessibility to radial highways\n",
    "and very weak correlation between some other features such as age and distance to employment centres. both observations seem logical.\n",
    "Our dataset seems logical and has no missing values, the data types seem to be consistent so we can move on to the linear regression\n",
    "# Linear Regression : \n",
    "First we will split our data into training and testing sets then we will train our model to predict the MEDV (median value of house prices) and finally we will evaluate its performance and try to visualize it."
   ]
  },
  {
   "cell_type": "code",
   "execution_count": null,
   "metadata": {},
   "outputs": [],
   "source": [
    "#Making a copy of the dataset specific to the Linear Regression : \n",
    "df_LR = df.copy()\n",
    "#Splitting the data into training set and testing set\n",
    "X = df_LR.drop('MEDV', axis=1)\n",
    "y = df_LR['MEDV']\n",
    "X_train, X_test, y_train, y_test = train_test_split (X, y, test_size=0.2, random_state=25)\n",
    "#Training the model \n",
    "lr = LinearRegression()\n",
    "lr.fit(X_train, y_train)\n",
    "#Evaluating \n",
    "y_pred = lr.predict(X_test)\n",
    "mse = mean_squared_error(y_test, y_pred)\n",
    "r2 = r2_score(y_test, y_pred)\n",
    "print(f\"Linear Regression:\")\n",
    "print(f\"Mean Squared Error: {mse:.2f}\")\n",
    "print(f\"R-squared: {r2:.2f}\")\n",
    "#Visualizing the performance of the model \n",
    "plt.scatter(y_test, y_pred)\n",
    "plt.xlabel('Actual values')\n",
    "plt.ylabel('Predicted values')\n",
    "plt.title('Linear Regression: Actual vs Predicted values')\n",
    "slope, intercept, r_value, p_value, std_err = linregress(y_test, y_pred)\n",
    "line = slope * y_test + intercept\n",
    "plt.plot(y_test, line, color='red', label='Line of best fit')\n",
    "\n",
    "plt.legend()\n",
    "plt.show()"
   ]
  },
  {
   "cell_type": "markdown",
   "metadata": {},
   "source": [
    "So the linear regression gives us the aforementioned results with a MSE of 20.56 and an R² of 0.75. Let's move to a random forest approach and compare their performance.\n",
    "# Random Forest : "
   ]
  },
  {
   "cell_type": "code",
   "execution_count": null,
   "metadata": {},
   "outputs": [],
   "source": [
    "df_RF = df.copy()\n",
    "#We already split the dataset earlier so to ensure a fair comparison between both approaches we will maintain the same \n",
    "#training and testing sets\n",
    "#Training the random forest regressor and making prediction \n",
    "rf = RandomForestRegressor(n_estimators=100, random_state=42)\n",
    "rf.fit(X_train, y_train)\n",
    "y_pred = rf.predict(X_test)\n",
    "#Evaluating the model \n",
    "mserf = mean_squared_error(y_test, y_pred)\n",
    "r2rf = r2_score(y_test, y_pred)\n",
    "print(f\"Random Forest Regression:\")\n",
    "print(f\"Mean Squared Error: {mserf:.2f}\")\n",
    "print(f\"R^2 Score: {r2rf:.2f}\")\n",
    "#Visualizing the performance of the model \n",
    "plt.scatter(y_test, y_pred)\n",
    "plt.xlabel('Actual values')\n",
    "plt.ylabel('Predicted values')\n",
    "plt.title('Random Forest Regression: Actual vs Predicted values')\n",
    "slope, intercept, r_value, p_value, std_err = linregress(y_test, y_pred)\n",
    "line = slope * y_test + intercept\n",
    "plt.plot(y_test, line, color='red', label='Line of best fit')\n",
    "\n",
    "plt.legend()\n",
    "plt.show()"
   ]
  },
  {
   "cell_type": "code",
   "execution_count": null,
   "metadata": {},
   "outputs": [],
   "source": [
    "table = PrettyTable()\n",
    "table.field_names = [\"Model\", \"MSE\", \"R²\"]\n",
    "\n",
    "table.add_row([\"Random Forest Regression\", 12.25, 0.85])\n",
    "table.add_row([\"Linear Regression\", 20.56, 0.75])\n",
    "\n",
    "print(\"Comparison of models\\n\")\n",
    "print(table)"
   ]
  },
  {
   "cell_type": "markdown",
   "metadata": {},
   "source": [
    "# Conclusion : \n",
    "A final comparison of the error scores and R² of both models shows that the random forest regression is more accurate in analyzing this dataset and predicting the house prices.\n",
    "\n",
    "work done by : hamdi neffati BA.Ibe"
   ]
  }
 ],
 "metadata": {
  "kernelspec": {
   "display_name": "Python 3 (ipykernel)",
   "language": "python",
   "name": "python3"
  },
  "language_info": {
   "codemirror_mode": {
    "name": "ipython",
    "version": 3
   },
   "file_extension": ".py",
   "mimetype": "text/x-python",
   "name": "python",
   "nbconvert_exporter": "python",
   "pygments_lexer": "ipython3",
   "version": "3.10.12"
  }
 },
 "nbformat": 4,
 "nbformat_minor": 4
}
